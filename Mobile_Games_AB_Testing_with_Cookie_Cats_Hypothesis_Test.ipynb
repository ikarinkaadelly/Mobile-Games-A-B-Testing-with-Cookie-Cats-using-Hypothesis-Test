{
 "cells": [
  {
   "cell_type": "markdown",
   "metadata": {
    "dc": {
     "key": "3"
    },
    "run_control": {
     "frozen": true
    },
    "tags": [
     "context"
    ]
   },
   "source": [
    "## Mobile Games A/B Testing with Cookie Cats\n",
    "<p><a href=\"https://www.facebook.com/cookiecatsgame\">Cookie Cats</a> is a hugely popular mobile puzzle game developed by <a href=\"http://tactile.dk\">Tactile Entertainment</a>. It's a classic \"connect three\"-style puzzle game where the player must connect tiles of the same color to clear the board and win the level.\n",
    "<p>As players progress through the levels of the game, they will occasionally encounter gates that force them to wait a non-trivial amount of time or make an in-app purchase to progress. In addition to driving in-app purchases, these gates serve the important purpose of giving players an enforced break from playing the game, hopefully resulting in that the player's enjoyment of the game being increased and prolonged.</p>\n",
    "<p><img src=\"https://s3.amazonaws.com/assets.datacamp.com/production/project_184/img/cc_gates.png\" alt=\"\"></p>\n",
    "<p>Initially the first gate was placed at level 30. This project is going to analyze an AB-test where the first gate in Cookie Cats was moved from level 30 to level 40.</p>"
   ]
  },
  {
   "cell_type": "code",
   "execution_count": 1,
   "metadata": {
    "dc": {
     "key": "3"
    },
    "scrolled": true,
    "tags": [
     "sample_code"
    ]
   },
   "outputs": [
    {
     "name": "stdout",
     "output_type": "stream",
     "text": [
      "   userid  version  sum_gamerounds  retention_1  retention_7\n",
      "0     116  gate_30               3        False        False\n",
      "1     337  gate_30              38         True        False\n",
      "2     377  gate_40             165         True        False\n",
      "3     483  gate_40               1        False        False\n",
      "4     488  gate_40             179         True         True\n",
      "\n",
      "\n",
      "Rows of dataframe : 90189, with 90189 different players\n"
     ]
    }
   ],
   "source": [
    "import pandas as pd\n",
    "\n",
    "df = pd.read_csv('cookie_cats.csv')\n",
    "\n",
    "print(df.head())\n",
    "print('\\n')\n",
    "print('Rows of dataframe : ' + str(len(df)) + ', with ' + str(len(df.userid.unique())) + ' different players')"
   ]
  },
  {
   "cell_type": "markdown",
   "metadata": {
    "dc": {
     "key": "10"
    },
    "run_control": {
     "frozen": true
    },
    "tags": [
     "context"
    ]
   },
   "source": [
    "<p>The data we have is from 90,189 players that installed the game while the AB-test was running. The variables are:</p>\n",
    "<ul>\n",
    "<li><code>userid</code> - a unique number that identifies each player.</li>\n",
    "<li><code>version</code> - whether the player was put in the control group (<code>gate_30</code> - a gate at level 30) or the group with the moved gate (<code>gate_40</code> - a gate at level 40).</li>\n",
    "<li><code>sum_gamerounds</code> - the number of game rounds played by the player during the first 14 days after install.</li>\n",
    "<li><code>retention_1</code> - did the player come back and play <strong>1 day</strong> after installing?</li>\n",
    "<li><code>retention_7</code> - did the player come back and play <strong>7 days</strong> after installing?</li>\n",
    "</ul>\n",
    "<p>When a player installed the game, he or she was randomly assigned to either <code>gate_30</code> or <code>gate_40</code>."
   ]
  },
  {
   "cell_type": "code",
   "execution_count": 2,
   "metadata": {
    "dc": {
     "key": "10"
    },
    "tags": [
     "sample_code"
    ]
   },
   "outputs": [
    {
     "name": "stdout",
     "output_type": "stream",
     "text": [
      "Number of players in each AB groups :\n",
      "   version  number of players\n",
      "0  gate_30              44700\n",
      "1  gate_40              45489\n"
     ]
    }
   ],
   "source": [
    "print('Number of players in each AB groups :')\n",
    "ab_group = df[['version', 'userid']].groupby('version', as_index=False).userid.count()\n",
    "ab_group.columns = ['version', 'number of players']\n",
    "print(ab_group)"
   ]
  },
  {
   "cell_type": "code",
   "execution_count": 3,
   "metadata": {
    "dc": {
     "key": "17"
    },
    "tags": [
     "sample_code"
    ]
   },
   "outputs": [
    {
     "name": "stdout",
     "output_type": "stream",
     "text": [
      "[]\n"
     ]
    }
   ],
   "source": [
    "import matplotlib.pyplot as plt\n",
    " \n",
    "plot_df = df.groupby('sum_gamerounds').userid.count()\n",
    "\n",
    "ax = plot_df.head(100).plot()\n",
    "ax.set_xlabel(\"Number of game rounds\")\n",
    "ax.set_ylabel(\"Number of players\")\n",
    "plt.axis([-5, 105, -100, 5800])\n",
    "plt.title('Distribution of players that played 0 to 100 game rounds during their first week playing the game')\n",
    "print(plt.plot())"
   ]
  },
  {
   "cell_type": "code",
   "execution_count": 4,
   "metadata": {},
   "outputs": [],
   "source": [
    "import numpy as np\n",
    "# AB Testing using Hypothesis Test Regarding Two Population Proportions\n",
    "def z_two_proportion(x1, x2, n1, n2) :\n",
    "    \"Calculate test statistic z value for Hypothesis Test Regarding Two Population Proportions\"\n",
    "    p = (x1+x2)/(n1+n2)\n",
    "    p1 = x1/n1\n",
    "    p2 = x2/n2\n",
    "    z = (p1-p2)/(np.sqrt(p*(1-p)*((1/n1)+(1/n2))))\n",
    "    return round(z, 3)"
   ]
  },
  {
   "cell_type": "markdown",
   "metadata": {
    "dc": {
     "key": "25"
    },
    "run_control": {
     "frozen": true
    },
    "tags": [
     "context"
    ]
   },
   "source": [
    "#### 1-day retention analysis\n",
    "<p>In the plot above we can see that some players install the game but then never play it (0 game rounds), some players just play a couple of game rounds in their first week, and some get really hooked!</p>\n",
    "<p>What we want is for players to like the game and to get hooked. A common metric in the video gaming industry for how fun and engaging a game is <em>1-day retention</em>: The percentage of players that comes back and plays the game <em>one day</em> after they have installed it.  The higher 1-day retention is, the easier it is to retain players and build a large player base. </p>"
   ]
  },
  {
   "cell_type": "code",
   "execution_count": 5,
   "metadata": {
    "dc": {
     "key": "25"
    },
    "tags": [
     "sample_code"
    ]
   },
   "outputs": [
    {
     "name": "stdout",
     "output_type": "stream",
     "text": [
      "Percentage of players that came back the day after they installed : 44.52 %\n"
     ]
    }
   ],
   "source": [
    "retention_1day = round((df.retention_1.mean() * 100), 2)\n",
    "print('Percentage of players that came back the day after they installed :', retention_1day, '%')"
   ]
  },
  {
   "cell_type": "code",
   "execution_count": 6,
   "metadata": {
    "dc": {
     "key": "32"
    },
    "tags": [
     "sample_code"
    ]
   },
   "outputs": [
    {
     "name": "stdout",
     "output_type": "stream",
     "text": [
      "1-day retention for each AB groups :\n",
      "   version  percentage of players\n",
      "0  gate_30                  44.82\n",
      "1  gate_40                  44.23\n"
     ]
    }
   ],
   "source": [
    "ab_retention1 = df[['version', 'retention_1']].groupby('version', as_index=False).retention_1.mean()\n",
    "ab_retention1.retention_1 = round((ab_retention1.retention_1 * 100), 2)\n",
    "ab_retention1.columns = ['version', 'percentage of players']\n",
    "print('1-day retention for each AB groups :')\n",
    "print(ab_retention1)"
   ]
  },
  {
   "cell_type": "markdown",
   "metadata": {
    "dc": {
     "key": "39"
    },
    "run_control": {
     "frozen": true
    },
    "tags": [
     "context"
    ]
   },
   "source": [
    "<p>It appears that there was a slight decrease in 1-day retention when the gate was moved to level 40 (44.23%) compared to the control when it was at level 30 (44.82%). It's a small change, but even small changes in retention can have a large impact.</p>\n",
    "<p>Perform a hypothesis test on the difference in the two population proportions using a level of significance α = 0.05 (i.e., 5%).</p>\n",
    "<p>p1 = proportion of 1-day retention from gate_30 version</p>\n",
    "<p>p2 = proportion of 1-day retention from gate_40 version</p>\n",
    "<p>H0 : p1 <= p2</p>\n",
    "<p>H1 : p1 > p2</p>"
   ]
  },
  {
   "cell_type": "code",
   "execution_count": 7,
   "metadata": {},
   "outputs": [
    {
     "name": "stdout",
     "output_type": "stream",
     "text": [
      "test statistic z : 1.784\n"
     ]
    }
   ],
   "source": [
    "# Hypothesis test for 1-day retention analysis\n",
    "x_30_1 = df[(df['version']=='gate_30')&(df['retention_1'])]['userid'].count()\n",
    "x_40_1 = df[(df['version']=='gate_40')&(df['retention_1'])]['userid'].count()\n",
    "n_30 = df[df['version']=='gate_30']['userid'].count()\n",
    "n_40 = df[df['version']=='gate_40']['userid'].count()\n",
    "z_retention_1 = z_two_proportion(x_30_1, x_40_1, n_30, n_40)\n",
    "print('test statistic z :', z_retention_1)"
   ]
  },
  {
   "cell_type": "markdown",
   "metadata": {
    "dc": {
     "key": "47"
    },
    "run_control": {
     "frozen": true
    },
    "tags": [
     "context"
    ]
   },
   "source": [
    "<p>With level of significance α = 0.05 (i.e., 5%) and z(0.05) = 1.645, so the test statistic z = 1.784 > z(0.05) = 1645.</p>\n",
    "<p>The conclusion of the hypothesis test is : <strong>Reject the Null Hypothesis.</strong> There is sufficient evidence to say that <strong>1-day retention of gate_30 version is bigger than gate_40 version</strong> with level of significance 5%.</p>"
   ]
  },
  {
   "cell_type": "markdown",
   "metadata": {
    "dc": {
     "key": "61"
    },
    "run_control": {
     "frozen": true
    },
    "tags": [
     "context"
    ]
   },
   "source": [
    "#### 7-day retention analysis\n",
    "<p>The hypothesis test tells us that there is sufficient evidence to say that 1-day retention is better when the gate is at level 30. However, since players have only been playing the game for one day, it is likely that most players haven't reached level 30 yet. That is, many players won't have been affected by the gate, even if it's as early as level 30. </p>\n",
    "<p>But after having played for a week, more players should have reached level 40, and therefore it makes sense to also look at 7-day retention. That is: What percentage of the people that installed the game also showed up a week later to play the game again.</p>"
   ]
  },
  {
   "cell_type": "code",
   "execution_count": 8,
   "metadata": {
    "dc": {
     "key": "61"
    },
    "tags": [
     "sample_code"
    ]
   },
   "outputs": [
    {
     "name": "stdout",
     "output_type": "stream",
     "text": [
      "7-day retention for each AB groups :\n",
      "   version  percentage of players\n",
      "0  gate_30                  19.02\n",
      "1  gate_40                  18.20\n"
     ]
    }
   ],
   "source": [
    "ab_retention7 = df[['version', 'retention_7']].groupby('version', as_index=False).retention_7.mean()\n",
    "ab_retention7.retention_7 = round((ab_retention7.retention_7 * 100), 2)\n",
    "ab_retention7.columns = ['version', 'percentage of players']\n",
    "print('7-day retention for each AB groups :')\n",
    "print(ab_retention7)"
   ]
  },
  {
   "cell_type": "markdown",
   "metadata": {
    "dc": {
     "key": "68"
    },
    "run_control": {
     "frozen": true
    },
    "tags": [
     "context"
    ]
   },
   "source": [
    "<p>Like with 1-day retention, we see that 7-day retention is slightly lower (18.20%) when the gate is at level 40 than when the gate is at level 30 (19.02%). This difference is also larger than for 1-day retention, presumably because more players have had time to hit the first gate. We also see that the <em>overall</em> 7-day retention is lower than the <em>overall</em> 1-day retention; fewer people play a game a week after installing than a day after installing.</p>\n",
    "<p>But as before, let's perform a hypothesis test on the difference in the two population proportions using a level of significance α = 0.05 (i.e., 5%).</p>\n",
    "<p>p1 = proportion of 7-day retention from gate_30 version</p>\n",
    "<p>p2 = proportion of 7-day retention from gate_40 version</p>\n",
    "<p>H0 : p1 <= p2</p>\n",
    "<p>H1 : p1 > p2</p>"
   ]
  },
  {
   "cell_type": "code",
   "execution_count": 9,
   "metadata": {},
   "outputs": [
    {
     "name": "stdout",
     "output_type": "stream",
     "text": [
      "test statistic z : 3.164\n"
     ]
    }
   ],
   "source": [
    "# Hypothesis test for 1-day retention analysis\n",
    "x_30_7 = df[(df['version']=='gate_30')&(df['retention_7'])]['userid'].count()\n",
    "x_40_7 = df[(df['version']=='gate_40')&(df['retention_7'])]['userid'].count()\n",
    "n_30 = df[df['version']=='gate_30']['userid'].count()\n",
    "n_40 = df[df['version']=='gate_40']['userid'].count()\n",
    "z_retention_7 = z_two_proportion(x_30_7, x_40_7, n_30, n_40)\n",
    "print('test statistic z :', z_retention_7)"
   ]
  },
  {
   "cell_type": "markdown",
   "metadata": {
    "dc": {
     "key": "47"
    },
    "run_control": {
     "frozen": true
    },
    "tags": [
     "context"
    ]
   },
   "source": [
    "<p>With level of significance α = 0.05 (i.e., 5%) and z(0.05) = 1.645, so the test statistic z = 3.164 > z(0.05) = 1645.</p>\n",
    "<p>The conclusion of the hypothesis test is : <strong>Reject the Null Hypothesis.</strong> There is sufficient evidence to say that <strong>7-day retention of gate_30 version is bigger than gate_40 version</strong> with level of significance 5%.</p>"
   ]
  },
  {
   "cell_type": "markdown",
   "metadata": {
    "dc": {
     "key": "75"
    },
    "run_control": {
     "frozen": true
    },
    "tags": [
     "context"
    ]
   },
   "source": [
    "### The conclusion\n",
    "<p>The hypothesis test tells us that there is sufficient evidence that 7-day retention is higher when the gate is at level 30 than when it is at level 40. The conclusion is: If we want to keep retention high — both 1-day and 7-day retention — we should <strong>not</strong> move the gate from level 30 to level 40. There are, of course, other metrics we could look at, like the number of game rounds played or how much in-game purchases are made by the two AB-groups. But retention <em>is</em> one of the most important metrics. If we don't retain our player base, it doesn't matter how much money they spend in-game.</p>\n",
    "<p>So, why is retention higher when the gate is positioned earlier? One could expect the opposite: The later the obstacle, the longer people are going to engage with the game. But this is not what the data tells us. The theory of <em>hedonic adaptation</em> can give one explanation for this. In short, hedonic adaptation is the tendency for people to get less and less enjoyment out of a fun activity over time if that activity is undertaken continuously. By forcing players to take a break when they reach a gate, their enjoyment of the game is prolonged. But when the gate is moved to level 40, fewer players make it far enough, and they are more likely to quit the game because they simply got bored of it. </p>"
   ]
  }
 ],
 "metadata": {
  "celltoolbar": "Edit Metadata",
  "kernelspec": {
   "display_name": "Python 3",
   "language": "python",
   "name": "python3"
  },
  "language_info": {
   "codemirror_mode": {
    "name": "ipython",
    "version": 3
   },
   "file_extension": ".py",
   "mimetype": "text/x-python",
   "name": "python",
   "nbconvert_exporter": "python",
   "pygments_lexer": "ipython3",
   "version": "3.7.4"
  }
 },
 "nbformat": 4,
 "nbformat_minor": 2
}
